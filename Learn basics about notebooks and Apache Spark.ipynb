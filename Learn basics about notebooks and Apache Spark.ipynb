{
    "nbformat_minor": 0, 
    "nbformat": 4, 
    "cells": [
        {
            "source": "# Learn the basics about notebooks and Apache Spark\n\nThis notebook introduces you to the basics of analytics notebooks and explains what Apache Spark is and how to use Spark in notebooks. The notebook shows you how to load data into the notebook, parse and explore the data, run queries on the data to extract information, plot your analysis results, and save your result in Object Storage.\n\nThis notebooks runs on Python 2 with Spark 1.6.\nThis notebook has been published to Github.\n\n## Table of contents\n- [What is Apache Spark](#apache_spark)\n- [Get data](#data_set)\n- [Load data](#load_data)\n- [Access data](#access_data)\n- [Add header](#add_header)\n- [Parse data](#parse_data)\n- [Explore data](#explore_data)\n- [Use Spark SQL](#use_spark_sql)\n- [Save results in Object Storage](#save)\n- [Summary](#summary)", 
            "cell_type": "markdown", 
            "metadata": {}
        }, 
        {
            "source": "<a id=\"apache_spark\"></a>\n## What is Apache Spark\n\n[Spark](http://spark.apache.org/) is a fast open-source engine for large-scale data processing. It is built for speed and ease of use. Through the advanced DAG execution engine that supports cyclic data flow and in-memory computing, programs can run up to 100 times faster than Hadoop MapReduce in memory, or 10 times faster on disc.\n\nSpark consists of multiple components:\n\n* Spark Core is the underlying computation engine with the fundamental programming abstraction called resilient distributed datasets (RDDs)\n* Spark SQL provides a new data abstraction called DataFrames for structured data processing with SQL and domain-specific language\n* MLlib is a scalable machine learning framework for delivering fast distributed algorithms for mining big data\n* Streaming leverages Spark's fast scheduling capability to perform real-time analysis on streams of new data\n* GraphX is the graph processing framework for the analysis of graph structured data\n\nIn this sample, you will focus on Spark Core and Spark SQL by using the Python API.", 
            "cell_type": "markdown", 
            "metadata": {}
        }, 
        {
            "source": "<a id=\"data_set\"></a>\n## Get data\n\nIn the sample, you will use Apache Spark to analyze weather data collected from weather stations in 2015. This data is provided by the NOAA National Climatic Data Center (NCDC).\n\nTo get at the raw data from the NOAA National Climatic Data Center (NCDC):\n\n1. Visit the NCDC site at http://www.ncdc.noaa.gov/data-access/quick-links.\n2. Click **Global Historical Climatology Network-Daily (GHCN-D)**.\n3. Click **GHCN-Daily FTP Access**.\n4. Click the `by_year` folder.\n5. Scroll to the bottom and click **2015.cs.gz** to download the data set.\n6. After the file was downloaded, extract it.\n7. Click **ghcn-daily-by_year-format.rtf** to download additional infromation, e.g. header, for the data set.", 
            "cell_type": "markdown", 
            "metadata": {}
        }, 
        {
            "source": "\nThe data in the base file has the following format:\n\n<table border=\"1\" style=\"width:90%\">\n  <tr>\n    <th>STATION</th><th>DATE</th><th>METRIC</th><th>VALUE</th><th>C5</th><th>C6</th><th>C7</th><th>C8</th>\n  </tr>\n  <tr>\n    <td>US1FLSL0019</td><td>20150101</td><td>PRCP</td><td>173</td><td></td><td></td><td>N</td>\n  </tr>\n  <tr>\n    <td>US1TXTV0133</td><td>20150101</td><td>PRCP</td><td>119</td><td></td><td></td><td>N</td>\n  </tr>\n  <tr>\n    <td>USC00178998</td><td>20150101</td><td>TMAX</td><td>-33</td><td></td><td></td><td>7</td><td>100</td>\n  </tr>\n  <tr>\n    <td>...</td><td>...</td><td>...</td><td>...</td><td>...</td><td>...</td><td>...</td>\n  </tr>\n</table>\n<p>\n\nEach row contains a weather station identifier, a date, a metric which is collected (like precipitation, daily maximum and minimum temperatures, temperature at the time of observation, snowfall, snow depth, and so on) and some additional values.\n\n**Note**: The header is not included in the CSV file and is documented in **ghcn-daily-by_year-format.rtf**. It was added to the table above for sake of vividness.", 
            "cell_type": "markdown", 
            "metadata": {}
        }, 
        {
            "source": "<a id=\"load_data\"></a>\n## Load data \nIn the notebook, load the data file: \n\n1. Click the **Data** icon on the notebook action bar. \n1. Click **Add Source** and select **From file** and browse to the 2015.csv file.\n\nThe data file is listed on the **Files** pane in the notebook and is stored in Object Storage.\n\n**Note**: Because the CSV file is relatively large, it might take a few minutes to load the data file. ", 
            "cell_type": "markdown", 
            "metadata": {}
        }, 
        {
            "source": "<a id=\"access_data\"></a>\n## Access data\nBefore you can access data in the data file in the Object Storage, you must set the Hadoop configuration with the Object Storage credentials. \n\n**Note**: You will not be using Hadoop in this sample; however Spark leverages some Hadoop components.", 
            "cell_type": "markdown", 
            "metadata": {}
        }, 
        {
            "source": "To add the code to access the data file which is stored in Object Storage and set the Hadoop configuration, click the next code cell and select **Insert to code>Spark RDD** below the data file in the `Data` pane in the notebook.\n\nThis function inserts the setup code for the preconfigured [`SparkContext`](https://spark.apache.org/docs/1.6.0/api/python/pyspark.html#pyspark.SparkContext). Then the data is loaded into a `Spark RDD` which is created by using the `SparkContext`.\n\nThe credentials for accessing the CSV file are included in the generated code.  ", 
            "cell_type": "markdown", 
            "metadata": {}
        }, 
        {
            "source": "<div class=\"alert alert-block alert-info\">Note: The `Spark RDD` that is created and loaded with data for you is given a generic name. Rename the RDD to `weather` and run the code cell to proceed.</div>", 
            "cell_type": "markdown", 
            "metadata": {}
        }, 
        {
            "source": "\n# @hidden_cell\n# This function is used to setup the access of Spark to your Object Storage. The definition contains your credentials.\n# You might want to remove those credentials before you share your notebook.\ndef set_hadoop_config_with_credentials_2a91b8b1599e40bfa11561a8b663b9ac(name):\n    \"\"\"This function sets the Hadoop configuration so it is possible to\n    access data from Bluemix Object Storage using Spark\"\"\"\n\n    prefix = 'fs.swift.service.' + name\n    hconf = sc._jsc.hadoopConfiguration()\n    hconf.set(prefix + '.auth.url', 'https://identity.open.softlayer.com'+'/v3/auth/tokens')\n    hconf.set(prefix + '.auth.endpoint.prefix', 'endpoints')\n    hconf.set(prefix + '.tenant', 'd49853da350f47ac85559bb77fabad12')\n    hconf.set(prefix + '.username', 'b3ea6ba9f55a4c6f9ff1f0a6a4dbd03c')\n    hconf.set(prefix + '.password', 'KaZh8Gje93]3o3#s')\n    hconf.setInt(prefix + '.http.port', 8080)\n    hconf.set(prefix + '.region', 'dallas')\n    hconf.setBoolean(prefix + '.public', False)\n\n# you can choose any name\nname = 'keystone'\nset_hadoop_config_with_credentials_2a91b8b1599e40bfa11561a8b663b9ac(name)\n\nweather = sc.textFile(\"swift://SparkPOT.\" + name + \"/2015.csv\")\nweather.take(5)\n", 
            "execution_count": 3, 
            "outputs": [
                {
                    "execution_count": 3, 
                    "output_type": "execute_result", 
                    "data": {
                        "text/plain": "[u'US1FLSL0019,20150101,PRCP,173,,,N,',\n u'US1TXTV0133,20150101,PRCP,119,,,N,',\n u'USC00178998,20150101,TMAX,-33,,,7,0700',\n u'USC00178998,20150101,TMIN,-167,,,7,0700',\n u'USC00178998,20150101,TOBS,-67,,,7,0700']"
                    }, 
                    "metadata": {}
                }, 
                {
                    "output_type": "stream", 
                    "text": "\n", 
                    "name": "stdout"
                }
            ], 
            "cell_type": "code", 
            "metadata": {
                "collapsed": false
            }
        }, 
        {
            "source": "Now you can access the data by using the preconfigured `SparkContext` function in your notebook.", 
            "cell_type": "markdown", 
            "metadata": {}
        }, 
        {
            "source": "The RDD you created is a collection of strings corresponding to the individual lines in the raw data file. It is also important to remember that the RDD is defined but not instantiated. By applying an action like `count` to the RDD, you effectively instantiate the RDD.", 
            "cell_type": "markdown", 
            "metadata": {}
        }, 
        {
            "source": "print \"Total records in the 2015.csv dataset:\", weather.count()", 
            "execution_count": 4, 
            "outputs": [
                {
                    "output_type": "stream", 
                    "text": "Total records in the 2015.csv dataset: 34326751\n", 
                    "name": "stdout"
                }
            ], 
            "cell_type": "code", 
            "metadata": {
                "collapsed": false
            }
        }, 
        {
            "source": "Apply another action to the same RDD that reads the first row of the data.", 
            "cell_type": "markdown", 
            "metadata": {}
        }, 
        {
            "source": "print \"The first row in the 2015.csv dataset:\", weather.first()", 
            "execution_count": 5, 
            "outputs": [
                {
                    "output_type": "stream", 
                    "text": "The first row in the 2015.csv dataset: US1FLSL0019,20150101,PRCP,173,,,N,\n", 
                    "name": "stdout"
                }
            ], 
            "cell_type": "code", 
            "metadata": {
                "collapsed": false
            }
        }, 
        {
            "source": "<a id=\"add_header\"></a>\n## Add header", 
            "cell_type": "markdown", 
            "metadata": {}
        }, 
        {
            "source": "Since the header is not included in the CSV file, it has to be added programmatically.  ", 
            "cell_type": "markdown", 
            "metadata": {}
        }, 
        {
            "source": "header = sc.parallelize(['STATION,DATE,METRIC,VALUE,C5,C6,C7,C8'])\nunion = header.union(weather)\nweather = union\nweather.take(2)", 
            "execution_count": 6, 
            "outputs": [
                {
                    "execution_count": 6, 
                    "output_type": "execute_result", 
                    "data": {
                        "text/plain": "['STATION,DATE,METRIC,VALUE,C5,C6,C7,C8',\n u'US1FLSL0019,20150101,PRCP,173,,,N,']"
                    }, 
                    "metadata": {}
                }
            ], 
            "cell_type": "code", 
            "metadata": {
                "collapsed": false
            }
        }, 
        {
            "source": "<a id=\"parse_data\"></a>\n## Parse data", 
            "cell_type": "markdown", 
            "metadata": {}
        }, 
        {
            "source": "To really begin working with the data, you need to parse it into columns. You can do this by mapping each line in the RDD to a function that splits the line by commas.\n\nThe lambda notation in Python is used to create anonymous functions, in other words, functions which are not bound to a name. This concept is used in the previous code cell to pass a function as a parameter to the `map` function. The anonymous function receives each line from the `weather` RDD  and splits it at comma boundaries. As a result, the new `weatherParse` RDD is defined as a list of lists. Each list in `weatherParse` corresponds to a line in `weather`, and the strings in each list are the individual elements of the row.", 
            "cell_type": "markdown", 
            "metadata": {
                "collapsed": true
            }
        }, 
        {
            "source": "weatherParse = weather.map(lambda line : line.split(\",\"))", 
            "execution_count": 7, 
            "outputs": [], 
            "cell_type": "code", 
            "metadata": {
                "collapsed": false
            }
        }, 
        {
            "source": "Run the next cell for a quick look at the first list:", 
            "cell_type": "markdown", 
            "metadata": {}
        }, 
        {
            "source": "weatherParse.first()", 
            "execution_count": 8, 
            "outputs": [
                {
                    "execution_count": 8, 
                    "output_type": "execute_result", 
                    "data": {
                        "text/plain": "['STATION', 'DATE', 'METRIC', 'VALUE', 'C5', 'C6', 'C7', 'C8']"
                    }, 
                    "metadata": {}
                }
            ], 
            "cell_type": "code", 
            "metadata": {
                "scrolled": true, 
                "collapsed": false
            }
        }, 
        {
            "source": "Now take a look at the individual elements of this first list where the first entry starts at offset zero.", 
            "cell_type": "markdown", 
            "metadata": {}
        }, 
        {
            "source": "weatherParse.first()[0]", 
            "execution_count": 9, 
            "outputs": [
                {
                    "execution_count": 9, 
                    "output_type": "execute_result", 
                    "data": {
                        "text/plain": "'STATION'"
                    }, 
                    "metadata": {}
                }
            ], 
            "cell_type": "code", 
            "metadata": {
                "scrolled": true, 
                "collapsed": false
            }
        }, 
        {
            "source": "You can also pull elements by index.", 
            "cell_type": "markdown", 
            "metadata": {}
        }, 
        {
            "source": "weatherParse.first()[2]", 
            "execution_count": 10, 
            "outputs": [
                {
                    "execution_count": 10, 
                    "output_type": "execute_result", 
                    "data": {
                        "text/plain": "'METRIC'"
                    }, 
                    "metadata": {}
                }
            ], 
            "cell_type": "code", 
            "metadata": {
                "collapsed": false
            }
        }, 
        {
            "source": "<a id=\"explore_data\"></a>\n## Explore data\nTo better consume the precipitation data, it has to be converted or mapped from one raw form into another format.\n", 
            "cell_type": "markdown", 
            "metadata": {}
        }, 
        {
            "source": "### Calculate the average precipitation by weather station\nTo calculate the average precipitation that was recorded at each weather station in the data set, reduce the data set by selecting only those rows with precipitation data values, in other words, those rows where the METRIC column equals `PRCP`.", 
            "cell_type": "markdown", 
            "metadata": {}
        }, 
        {
            "source": "weatherPrecp = weatherParse.filter(lambda x: x[2] == \"PRCP\")", 
            "execution_count": 11, 
            "outputs": [], 
            "cell_type": "code", 
            "metadata": {
                "collapsed": false
            }
        }, 
        {
            "source": "The `weatherPrecp` RDD that you created contains a list of pairs (v1, v2), where v1 is a weather station identifier and v2 is one precipitation data point (one day) for that station. Table 1. depicts this structure.", 
            "cell_type": "markdown", 
            "metadata": {}
        }, 
        {
            "source": "#### Table 1.\n\n<table border=\"1\" style=\"width:80%\">\n  <tr>\n    <th>Key</th><th>Value</th>\n  </tr>\n  <tr>\n    <td>Station 1</td><td>Value 1</td>\n  </tr>\n  <tr>\n    <td>Station 2</td><td>Value 2</td>\n  </tr>\n    <tr>\n    <td>Station 1</td><td>Value 3</td>\n  </tr>\n    <tr>\n    <td>Station 2</td><td>Value 4</td>\n  </tr>\n    <tr>\n    <td>Station 3</td><td>Value 5</td>\n  </tr>\n  <tr>\n    <td>...</td><td>...</td>\n  </tr>\n</table>\n<p>", 
            "cell_type": "markdown", 
            "metadata": {}
        }, 
        {
            "source": "Next, transform (map) this data set into a new one where each row (data pair) is augmented with the value `1`. Table 2. shows this new structure.", 
            "cell_type": "markdown", 
            "metadata": {}
        }, 
        {
            "source": "#### Table 2.\n\n<table border=\"1\" style=\"width:80%\">\n  <tr>\n    <th>Key</th><th>Value</th>\n  </tr>\n  <tr>\n    <td>Station 1</td><td>(Value 1,1)</td>\n  </tr>\n  <tr>\n    <td>Station 2</td><td>(Value 2,1)</td>\n  </tr>\n    <tr>\n    <td>Station 1</td><td>(Value 3,1)</td>\n  </tr>\n    <tr>\n    <td>Station 2</td><td>(Value 4,1)</td>\n  </tr>\n    <tr>\n    <td>Station 3</td><td>(Value 5,1)</td>\n  </tr>\n  <tr>\n    <td>...</td><td>...</td>\n  </tr>\n</table>\n<p>", 
            "cell_type": "markdown", 
            "metadata": {}
        }, 
        {
            "source": "The reason for this mapping is to reduce the table into the form represented by Table 3.", 
            "cell_type": "markdown", 
            "metadata": {}
        }, 
        {
            "source": "#### Table 3.\n\n<table border=\"1\" style=\"width:80%\">\n  <tr>\n    <th>Key</th><th>Value</th>\n  </tr>\n  <tr>\n    <td>Station 1</td><td>(Value 1 + Value 3,2)</td>\n  </tr>\n  <tr>\n    <td>Station 2</td><td>(Value 2 + Value 4,2)</td>\n  </tr>\n    <tr>\n    <td>Station 3</td><td>(Value 5,1)</td>\n  </tr>\n  <tr>\n    <td>...</td><td>...</td>\n  </tr>\n</table>\n<p>", 
            "cell_type": "markdown", 
            "metadata": {}
        }, 
        {
            "source": "Using this table, you can compute the average precipitation for each station by dividing the summation of the values by the corresponding count.\n\nRun the next code cell to create `weatherPrecpCountByKey`. The outcome is the equivalent to what you see in Table 2.", 
            "cell_type": "markdown", 
            "metadata": {}
        }, 
        {
            "source": "# x[0] is the station\n# x[3] is the precipitation value\nweatherPrecpCountByKey = weatherPrecp.map(lambda x : (x[0], (int(x[3]), 1)))", 
            "execution_count": 12, 
            "outputs": [], 
            "cell_type": "code", 
            "metadata": {
                "collapsed": false
            }
        }, 
        {
            "source": "The same Python lambda function notation is used to pass a function into the mapping function which transforms `weatherPrecp` into the new RDD. \n\nTo confirm that the mapping produced the expected results, run the next cell:", 
            "cell_type": "markdown", 
            "metadata": {}
        }, 
        {
            "source": "weatherPrecpCountByKey.first()", 
            "execution_count": 13, 
            "outputs": [
                {
                    "execution_count": 13, 
                    "output_type": "execute_result", 
                    "data": {
                        "text/plain": "(u'US1FLSL0019', (173, 1))"
                    }, 
                    "metadata": {}
                }
            ], 
            "cell_type": "code", 
            "metadata": {
                "collapsed": false
            }
        }, 
        {
            "source": "### Calculate the total precipitation by weather station\n\nTo calculate the total precipitation by weather station, sum (reduce) the precipitation amounts and total readings for every station. Use the `reduceByKey` function for this purpose.", 
            "cell_type": "markdown", 
            "metadata": {}
        }, 
        {
            "source": "weatherPrecpAddByKey = weatherPrecpCountByKey.reduceByKey(lambda v1,v2 : (v1[0]+v2[0], v1[1]+v2[1]))", 
            "execution_count": 14, 
            "outputs": [], 
            "cell_type": "code", 
            "metadata": {
                "collapsed": true
            }
        }, 
        {
            "source": "Using the `first` function, you can inspect the precipitation values and read the totals for the first station ID. Note that this operation might take some time to complete as the whole chain of RDDs that you created are reinstantiated.", 
            "cell_type": "markdown", 
            "metadata": {}
        }, 
        {
            "source": "weatherPrecpAddByKey.first()", 
            "execution_count": 15, 
            "outputs": [
                {
                    "execution_count": 15, 
                    "output_type": "execute_result", 
                    "data": {
                        "text/plain": "(u'CA1ON000009', (10256, 365))"
                    }, 
                    "metadata": {}
                }
            ], 
            "cell_type": "code", 
            "metadata": {
                "collapsed": false
            }
        }, 
        {
            "source": "### Compute the average values per station\n\nNow that you have transformed the data into the format you need it in, you can finally compute the average precipitation values per weather station. You create the `weatherAverages` RDD by mapping the `weatherPrecpAddByKey` RDD through a function that divides the precipitation total by the total number of readings.", 
            "cell_type": "markdown", 
            "metadata": {}
        }, 
        {
            "source": "weatherAverages = weatherPrecpAddByKey.map(lambda k: (k[0], k[1][0] / float(k[1][1] ) ) )", 
            "execution_count": 16, 
            "outputs": [], 
            "cell_type": "code", 
            "metadata": {
                "collapsed": true
            }
        }, 
        {
            "source": "weatherAverages.first()", 
            "execution_count": 17, 
            "outputs": [
                {
                    "execution_count": 17, 
                    "output_type": "execute_result", 
                    "data": {
                        "text/plain": "(u'CA1ON000009', 28.0986301369863)"
                    }, 
                    "metadata": {}
                }
            ], 
            "cell_type": "code", 
            "metadata": {
                "collapsed": false
            }
        }, 
        {
            "source": "Now print the first ten stations and their average precipitation values. The station ID is the sort order in the `top` function because it appears first in the tuple (station ID, average precipitation) in the RDD.", 
            "cell_type": "markdown", 
            "metadata": {}
        }, 
        {
            "source": "for pair in weatherAverages.top(10):\n    print \"Station %s had average precipitations of %f\" % (pair[0],pair[1])", 
            "execution_count": 18, 
            "outputs": [
                {
                    "output_type": "stream", 
                    "text": "Station ZI000067983 had average precipitations of 43.362637\nStation ZI000067975 had average precipitations of 42.397260\nStation ZI000067775 had average precipitations of 98.833333\nStation ZA000067743 had average precipitations of 170.142857\nStation WZ004455110 had average precipitations of 57.678899\nStation WQW00041606 had average precipitations of 29.680628\nStation WFM00091754 had average precipitations of 70.784768\nStation WF000917530 had average precipitations of 87.988669\nStation WA012084750 had average precipitations of 81.787879\nStation WA010517310 had average precipitations of 14.275862\n", 
                    "name": "stdout"
                }
            ], 
            "cell_type": "code", 
            "metadata": {
                "collapsed": false
            }
        }, 
        {
            "source": "If you want to output the ten weather stations with the highest average precipitation, you need to reverse the order of the tuple to (average precipitation, station ID). You can do this with a `map` function that switches the pair order.", 
            "cell_type": "markdown", 
            "metadata": {}
        }, 
        {
            "source": "precTop10=[]\nstationsTop10=[]\nfor pair in weatherAverages.map(lambda (x,y) : (y,x)).top(10):\n    precTop10.append(pair[0])\n    stationsTop10.append(pair[1])\n    print \"Station %s had average precipitations of %f\" % (pair[1],pair[0])", 
            "execution_count": 19, 
            "outputs": [
                {
                    "output_type": "stream", 
                    "text": "Station US1TXLR0005 had average precipitations of 1996.000000\nStation US1TXHND002 had average precipitations of 1842.000000\nStation US1TXWM0106 had average precipitations of 1768.000000\nStation US1TXCMR017 had average precipitations of 1765.000000\nStation US1FLBW0047 had average precipitations of 1740.000000\nStation US1TXBND040 had average precipitations of 1715.000000\nStation US1SDMH0043 had average precipitations of 1702.000000\nStation US1IAPK0065 had average precipitations of 1394.000000\nStation IDM00096237 had average precipitations of 1161.000000\nStation US1TXSM0014 had average precipitations of 1122.500000\n", 
                    "name": "stdout"
                }
            ], 
            "cell_type": "code", 
            "metadata": {
                "scrolled": true, 
                "collapsed": false
            }
        }, 
        {
            "source": "Plot your results.", 
            "cell_type": "markdown", 
            "metadata": {}
        }, 
        {
            "source": "%matplotlib inline\nimport numpy as np\nimport matplotlib.pyplot as plt\n\nN = 10\nindex = np.arange(N)  \nbar_width = 0.5\n\nplt.bar(index, precTop10, bar_width,\n                 color='b')\nplt.xlabel('Stations')\nplt.ylabel('Precipitations')\nplt.title('10 stations with the highest average precipitation')\nplt.xticks(index + bar_width, stationsTop10, rotation=90)\nplt.show()", 
            "execution_count": 20, 
            "outputs": [
                {
                    "output_type": "display_data", 
                    "data": {
                        "image/png": "[encoded data removed]", 
                        "text/plain": "<matplotlib.figure.Figure at 0x7fea6e188f10>"
                    }, 
                    "metadata": {}
                }
            ], 
            "cell_type": "code", 
            "metadata": {
                "collapsed": false
            }
        }, 
        {
            "source": "<a id=\"use_spark_sql\"></a>\n## Use Spark SQL\n\n`Spark SQL` lets you query structured data, for example, data in a relational table and can be a very powerful tool for performing complex aggregations.\n\nTo create a relational table that you can query using `Spark SQL` and fill it with snowfall data, you'll use the `Row` class from the `pyspark.sql` package. You will use every line in the `weatherSnow` RDD to create a row object. Each of the row's attributes will be used to access the value of each column.", 
            "cell_type": "markdown", 
            "metadata": {}
        }, 
        {
            "source": "To filter the weather data to show only those weather stations that contain the keyword SNOW, you need to reduce the data set to lines with SNOW in the third column. To do this, run the following commands:", 
            "cell_type": "markdown", 
            "metadata": {}
        }, 
        {
            "source": "weatherSnow = weatherParse.filter(lambda x: x[2]==\"SNOW\")\nweatherSnow.count()", 
            "execution_count": 21, 
            "outputs": [
                {
                    "execution_count": 21, 
                    "output_type": "execute_result", 
                    "data": {
                        "text/plain": "4269955"
                    }, 
                    "metadata": {}
                }
            ], 
            "cell_type": "code", 
            "metadata": {
                "collapsed": false
            }
        }, 
        {
            "source": "The next commands convert each line of the `weatherSnow` RDD into a row object, infer and apply a schema to an RDD of row objects, and register the table name `snow2015`.", 
            "cell_type": "markdown", 
            "metadata": {}
        }, 
        {
            "source": "from pyspark.sql import SQLContext, Row\nfrom datetime import datetime\n\n# instantiate SQLContext object\nsqlContext = SQLContext(sc)\n# Convert each line of snowWeather RDD into a Row object\nsnowRows= weatherSnow.map(lambda p: Row(station=p[0], month=datetime.strptime(p[1], '%Y%m%d').month, date=datetime.strptime(p[1], '%Y%m%d').day,metric=p[2], value=int(p[3])))\n# Apply Row schema\nsnowSchema = sqlContext.createDataFrame(snowRows)\n# Register 'snow2015' table with 5 columns: station, month, date, metric, and value\nsnowSchema.registerTempTable(\"snow2015\")\nsqlContext.cacheTable(\"snow2015\")", 
            "execution_count": 22, 
            "outputs": [], 
            "cell_type": "code", 
            "metadata": {
                "collapsed": true
            }
        }, 
        {
            "source": "### Compare the number of snow days between two stations\n\nIn this section, you'll calculate the number of snow days for each month of the year at the `US10chey021` \nand `USW00094985` weather stations. With that information, you'll plot a bar chart to compare the number of snow days for each month at the two stations.", 
            "cell_type": "markdown", 
            "metadata": {}
        }, 
        {
            "source": "First, find out on how many days of every month it snowed at the `US10chey021` weather station:", 
            "cell_type": "markdown", 
            "metadata": {}
        }, 
        {
            "source": "snow_US10chey021 = sqlContext.sql(\"SELECT month, COUNT(*) AS snowdays FROM snow2015 WHERE station='US10chey021' GROUP BY month ORDER BY month\").collect()", 
            "execution_count": 23, 
            "outputs": [], 
            "cell_type": "code", 
            "metadata": {
                "collapsed": true
            }
        }, 
        {
            "source": "US10chey021_snowdays_y=[0] * 12\nfor row in snow_US10chey021:\n    US10chey021_snowdays_y[row.month - 1]=row.snowdays\n    \nprint US10chey021_snowdays_y", 
            "execution_count": 24, 
            "outputs": [
                {
                    "output_type": "stream", 
                    "text": "[31, 27, 31, 30, 31, 30, 31, 31, 30, 31, 27, 25]\n", 
                    "name": "stdout"
                }
            ], 
            "cell_type": "code", 
            "metadata": {
                "collapsed": false
            }
        }, 
        {
            "source": "Next, find out how many days of every month it snowed at the `USW00094985` weather station and plot the results:", 
            "cell_type": "markdown", 
            "metadata": {}
        }, 
        {
            "source": "snow_USW00094985 = sqlContext.sql(\"SELECT  month, COUNT(*) AS snowdays FROM snow2015 WHERE station='USW00094985' GROUP BY month ORDER BY month\").collect()", 
            "execution_count": 25, 
            "outputs": [], 
            "cell_type": "code", 
            "metadata": {
                "collapsed": true
            }
        }, 
        {
            "source": "USW00094985_snowdays_y=[0] * 12\nfor row in snow_USW00094985:\n    USW00094985_snowdays_y[row.month -1]=row.snowdays\n    \nprint USW00094985_snowdays_y", 
            "execution_count": 26, 
            "outputs": [
                {
                    "output_type": "stream", 
                    "text": "[31, 28, 31, 30, 30, 30, 31, 30, 30, 31, 30, 31]\n", 
                    "name": "stdout"
                }
            ], 
            "cell_type": "code", 
            "metadata": {
                "collapsed": false
            }
        }, 
        {
            "source": "%matplotlib inline\nimport matplotlib\nimport numpy as np\nimport matplotlib.pyplot as plt\n\nN=12\nind=np.arange(N)\nwidth = 0.35\npUS10chey021 = plt.bar(ind, US10chey021_snowdays_y, width, color='g', label='US10chey021')\npUSW00094985 = plt.bar(ind+width, USW00094985_snowdays_y, width, color='y', label='USW00094985')\n\nplt.ylabel('SNOW DAYS')\nplt.xlabel('MONTH')\nplt.title('Snow Days in 2015 at Stations US10chey021 vs. USW00094985')\nplt.xticks(ind+width, ('Jan', 'Feb', 'Mar', 'Apr', 'May', 'Jun', 'Jul', 'Aug', 'Sep', 'Oct', 'Nov', 'Dec'))\nplt.legend()\n\nplt.show()", 
            "execution_count": 27, 
            "outputs": [
                {
                    "output_type": "display_data", 
                    "data": {
                        "image/png": "[encoded data removed]", 
                        "text/plain": "<matplotlib.figure.Figure at 0x7f8a9289ba10>"
                    }, 
                    "metadata": {}
                }
            ], 
            "cell_type": "code", 
            "metadata": {
                "collapsed": false
            }
        }, 
        {
            "source": "### Determine the number of snow days at each US weather station\nTo determine how many snow days there were at each of the US weather stations in 2015, run the following command to query the `snow2015` table, using the `COUNT(*)` function to get the total snow days. The table is sorted by station name and limited to only 100 stations.", 
            "cell_type": "markdown", 
            "metadata": {}
        }, 
        {
            "source": "snowStations = sqlContext.sql(\"SELECT  station, COUNT(*) AS snowdays FROM snow2015 WHERE station LIKE 'US%' GROUP BY station ORDER BY station LIMIT 100\")", 
            "execution_count": 27, 
            "outputs": [], 
            "cell_type": "code", 
            "metadata": {
                "collapsed": true
            }
        }, 
        {
            "source": "Now print the first 5 rows of the `snowStations` table, including the station name and number of snow days at that station:", 
            "cell_type": "markdown", 
            "metadata": {}
        }, 
        {
            "source": "snowStations.head(5)", 
            "execution_count": 28, 
            "outputs": [
                {
                    "execution_count": 28, 
                    "output_type": "execute_result", 
                    "data": {
                        "text/plain": "[Row(station=u'US10adam001', snowdays=79),\n Row(station=u'US10adam002', snowdays=192),\n Row(station=u'US10adam004', snowdays=353),\n Row(station=u'US10adam006', snowdays=58),\n Row(station=u'US10adam007', snowdays=36)]"
                    }, 
                    "metadata": {}
                }
            ], 
            "cell_type": "code", 
            "metadata": {
                "collapsed": false
            }
        }, 
        {
            "source": "### Save the query results into a new table", 
            "cell_type": "markdown", 
            "metadata": {}
        }, 
        {
            "source": "In this step, you will save the query result of the above `SELECT` query in a new table called `snowdays_2015`. The new table has two columns: STATION (name of station) and SNOWDAYS (number of snow days at the station). ", 
            "cell_type": "markdown", 
            "metadata": {}
        }, 
        {
            "source": "sqlContext.registerDataFrameAsTable(snowStations, \"snowdays_2015\")", 
            "execution_count": 29, 
            "outputs": [], 
            "cell_type": "code", 
            "metadata": {
                "collapsed": true
            }
        }, 
        {
            "source": "Output the five stations with the highest number of snow days in 2015:", 
            "cell_type": "markdown", 
            "metadata": {}
        }, 
        {
            "source": "snowStations_new = sqlContext.sql(\"SELECT station, snowdays FROM snowdays_2015 ORDER BY snowdays DESC LIMIT 5\").collect()\nfor row in snowStations_new:\n    print row", 
            "execution_count": 30, 
            "outputs": [
                {
                    "output_type": "stream", 
                    "text": "Row(station=u'US10adam056', snowdays=361)\nRow(station=u'US10buff036', snowdays=360)\nRow(station=u'US10adam051', snowdays=355)\nRow(station=u'US10adam004', snowdays=353)\nRow(station=u'US10adam032', snowdays=352)\n", 
                    "name": "stdout"
                }
            ], 
            "cell_type": "code", 
            "metadata": {
                "collapsed": false
            }
        }, 
        {
            "source": "### Identify the stations with the same number of snow days in 2015\n\nIn this section, you'll identify the stations that had the same number of snow days in 2015. First, you need to query the table `snowdays_2015` again. \n\nThen, by using the `map` function, you'll transform each row into a key-value pair where the key is the number of snow days and the value is the station name.\n\nNext, you'll apply the `reduceByKey` function to each pair, and the value of those pairs that have the same key are concatenated. As a result, the RDD contains the number of snow days, and the list of all stations that have the same number of snow days.\n\nThe `for` loop prints the number of snow days, and the list of stations that have that number of snow days in 2015.", 
            "cell_type": "markdown", 
            "metadata": {}
        }, 
        {
            "source": "snowdays_100 = sqlContext.sql(\"SELECT station, snowdays FROM snowdays_2015\")\nsnowday_stations=snowdays_100.map(lambda x:  (x.snowdays,x.station)).reduceByKey(lambda x, y: x + ',' + y)\nfor snowday in snowday_stations.collect():\n    print 'Snow days:' + str(snowday[0]) + ' Stations:' + str(snowday[1])", 
            "execution_count": 31, 
            "outputs": [
                {
                    "output_type": "stream", 
                    "text": "Snow days:128 Stations:US10butl008\nSnow days:64 Stations:US10chas025,US10cher016\nSnow days:3 Stations:US10cher019\nSnow days:135 Stations:US10chas034\nSnow days:8 Stations:US10chas009\nSnow days:300 Stations:US10buff008\nSnow days:141 Stations:US10cass011\nSnow days:15 Stations:US10bann007\nSnow days:17 Stations:US10chas027\nSnow days:147 Stations:US10ceda006\nSnow days:90 Stations:US10boon010\nSnow days:69 Stations:US10buff007,US10chas023\nSnow days:26 Stations:US10chas032\nSnow days:335 Stations:US10box_013,US10buff002\nSnow days:29 Stations:US10adam013\nSnow days:30 Stations:US10box_007\nSnow days:31 Stations:US10box_020,US10buff039,US10chas021,US10chas035\nSnow days:32 Stations:US10chas019\nSnow days:161 Stations:US10buff004,US10chas001\nSnow days:34 Stations:US10chas013\nSnow days:36 Stations:US10adam007,US10box_009\nSnow days:37 Stations:US10chas033,US10cher013\nSnow days:66 Stations:US10cher018\nSnow days:40 Stations:US10adam012\nSnow days:41 Stations:US10adam017,US10adam024,US10ceda015\nSnow days:42 Stations:US10buff025\nSnow days:43 Stations:US10ceda026\nSnow days:44 Stations:US10ceda001\nSnow days:45 Stations:US10cher009\nSnow days:49 Stations:US10adam035\nSnow days:306 Stations:US10butl011\nSnow days:115 Stations:US10box_023\nSnow days:52 Stations:US10box_008\nSnow days:54 Stations:US10adam046,US10cher005\nSnow days:56 Stations:US10bann009\nSnow days:180 Stations:US10box_024\nSnow days:58 Stations:US10adam006\nSnow days:287 Stations:US10buff006\nSnow days:60 Stations:US10brow008\nSnow days:61 Stations:US10boon002\nSnow days:63 Stations:US10chas029\nSnow days:192 Stations:US10adam002\nSnow days:194 Stations:US10chas003\nSnow days:71 Stations:US10ante003\nSnow days:324 Stations:US10boon005\nSnow days:325 Stations:US10ceda013\nSnow days:33 Stations:US10bann005\nSnow days:328 Stations:US10chas002\nSnow days:73 Stations:US10adam010\nSnow days:75 Stations:US10adam008\nSnow days:333 Stations:US10adam022\nSnow days:79 Stations:US10adam001,US10blai004\nSnow days:81 Stations:US10blai012,US10burt002,US10chas011\nSnow days:82 Stations:US10chas016\nSnow days:339 Stations:US10ceda002\nSnow days:84 Stations:US10box_004\nSnow days:85 Stations:US10adam036\nSnow days:343 Stations:US10cass001\nSnow days:88 Stations:US10chas012\nSnow days:83 Stations:US10adam034,US10ceda017\nSnow days:346 Stations:US10ceda005\nSnow days:91 Stations:US10cher024\nSnow days:314 Stations:US10box_001\nSnow days:222 Stations:US10box_014\nSnow days:182 Stations:US10cass005\nSnow days:352 Stations:US10adam032\nSnow days:353 Stations:US10adam004\nSnow days:50 Stations:US10adam029,US10chas017\nSnow days:101 Stations:US10buff034,US10ceda009\nSnow days:360 Stations:US10buff036\nSnow days:361 Stations:US10adam056\nSnow days:111 Stations:US10butl020\nSnow days:229 Stations:US10adam019\nSnow days:59 Stations:US10adam045\nSnow days:19 Stations:US10cher004\nSnow days:355 Stations:US10adam051\nSnow days:89 Stations:US10butl005\nSnow days:72 Stations:US10ceda020\nSnow days:212 Stations:US10box_030,US10cass010,US10chas036\nSnow days:351 Stations:US10chas028\n", 
                    "name": "stdout"
                }
            ], 
            "cell_type": "code", 
            "metadata": {
                "collapsed": false
            }
        }, 
        {
            "source": "<a id=\"save\"></a>\n## Save results in Object Storage\n\nIn this section, you'll save the `snowStations` DataFrame, which is the query result of the `snow2015` table for 100 US weather stations in Object Storage. Each row contains the name of the weather station and the number of snow days at that station.\n\nThe data will be saved in [Apache Parquet](https://parquet.apache.org/documentation/latest/) file format and in regular text file format. Apache Parquet file format saves data as columns.\n\nEach project you create has a container in your object storage. The name of the container is the same as the project name, minus any blank spaces. You can see the name of the container on the **Settings** page of the project. Change the string `CONTAINER` in this cell to the name of your container:", 
            "cell_type": "markdown", 
            "metadata": {}
        }, 
        {
            "source": "# Save as parquet file\nsnowStations.write.parquet(\"swift://CONTAINER.\" + name + \"/snowStations.parquet\")", 
            "execution_count": 33, 
            "outputs": [], 
            "cell_type": "code", 
            "metadata": {
                "collapsed": false
            }
        }, 
        {
            "source": "After the DataFrame has been saved to Object Storage, you will see a new data source called `snowStations.parquet` in the `Data` pane. \n\nChange the string `CONTAINER` in the following code cell as well and run the cell to read the parquet file and register it as a table again. Once the parquet file is read, you can use the domain-specific language to access the data. When you register the resulting DataFrame as TempTable, you can run SQL queries on the data as well.", 
            "cell_type": "markdown", 
            "metadata": {}
        }, 
        {
            "source": "parquetFile = sqlContext.read.parquet(\"swift://CONTAINER.\" + name + \"/snowStations.parquet\")\nparquetFile.registerTempTable(\"snow_from_parquet\")", 
            "execution_count": 34, 
            "outputs": [], 
            "cell_type": "code", 
            "metadata": {
                "collapsed": true
            }
        }, 
        {
            "source": "<a id=\"summary\"></a>\n## Summary\n\nIn this sample, you learned how to use Apache Spark, how to use PySpark, the Python API for Spark and the matplotlib plotting library. You also learned how to load data from Object Storage as an RDD, how to define Spark data schemas, and how to save intermediate results in parquet format.", 
            "cell_type": "markdown", 
            "metadata": {}
        }, 
        {
            "source": "<a id=\"resources\"></a>\n### Resources\n[Apache Spark 1.6.0 Programming Guide](https://spark.apache.org/docs/1.6.0/programming-guide.html)\n\n[Apache Spark 1.6.0 SQL and DataFrames](https://spark.apache.org/docs/1.6.0/sql-programming-guide.html)\n\n[PySpark 1.6.0 - Python API for Spark](https://spark.apache.org/docs/1.6.0/api/python/)\n\n", 
            "cell_type": "markdown", 
            "metadata": {
                "collapsed": true
            }
        }, 
        {
            "source": "### Author\nSven Hafeneger is a member of the Data Science Experience development team at IBM Analytics in Germany. He holds a M.Sc. in Bioinformatics and is passionate about data analysis, machine learning and the Python ecosystem for data science. ", 
            "cell_type": "markdown", 
            "metadata": {}
        }, 
        {
            "source": "", 
            "execution_count": null, 
            "outputs": [], 
            "cell_type": "code", 
            "metadata": {
                "collapsed": true
            }
        }
    ], 
    "metadata": {
        "kernelspec": {
            "name": "python2", 
            "display_name": "Python 2 with Spark 1.6", 
            "language": "python"
        }, 
        "name": "cds_ax_spark.ipynb", 
        "language_info": {
            "version": "2.7.11", 
            "file_extension": ".py", 
            "codemirror_mode": {
                "version": 2, 
                "name": "ipython"
            }, 
            "nbconvert_exporter": "python", 
            "mimetype": "text/x-python", 
            "pygments_lexer": "ipython2", 
            "name": "python"
        }
    }
}